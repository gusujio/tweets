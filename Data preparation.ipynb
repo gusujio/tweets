{
 "cells": [
  {
   "cell_type": "code",
   "execution_count": 1,
   "id": "2fff1d98",
   "metadata": {},
   "outputs": [],
   "source": [
    "import pandas as pd\n",
    "import numpy as np\n",
    "import nltk\n",
    "from functools import reduce\n",
    "from nltk.stem import WordNetLemmatizer\n",
    "from nltk.corpus import wordnet\n",
    "from nltk.corpus import stopwords\n",
    "from sklearn.feature_extraction.text import CountVectorizer, TfidfVectorizer, HashingVectorizer\n",
    "from nltk.stem.porter import PorterStemmer\n",
    "from nltk.stem.snowball import SnowballStemmer\n",
    "from nltk.metrics.distance import jaccard_distance\n",
    "from nltk.util import ngrams\n",
    "from nltk.corpus import words\n",
    "from nltk.metrics.distance  import edit_distance\n",
    "from textblob import TextBlob \n",
    "import re \n",
    "import pickle"
   ]
  },
  {
   "cell_type": "code",
   "execution_count": 2,
   "id": "5925c236",
   "metadata": {},
   "outputs": [],
   "source": [
    "# ! pip install textblob"
   ]
  },
  {
   "cell_type": "code",
   "execution_count": 3,
   "id": "d1c259ad",
   "metadata": {},
   "outputs": [],
   "source": [
    "# nltk.download('punkt')\n",
    "# nltk.download('wordnet')\n",
    "# nltk.download('averaged_perceptron_tagger')\n",
    "# nltk.download('stopwords')\n",
    "# nltk.download('words')"
   ]
  },
  {
   "cell_type": "markdown",
   "id": "ee292fde",
   "metadata": {},
   "source": [
    "## загрузка данных "
   ]
  },
  {
   "cell_type": "code",
   "execution_count": 4,
   "id": "f8b5e043",
   "metadata": {},
   "outputs": [
    {
     "data": {
      "text/html": [
       "<div>\n",
       "<style scoped>\n",
       "    .dataframe tbody tr th:only-of-type {\n",
       "        vertical-align: middle;\n",
       "    }\n",
       "\n",
       "    .dataframe tbody tr th {\n",
       "        vertical-align: top;\n",
       "    }\n",
       "\n",
       "    .dataframe thead th {\n",
       "        text-align: right;\n",
       "    }\n",
       "</style>\n",
       "<table border=\"1\" class=\"dataframe\">\n",
       "  <thead>\n",
       "    <tr style=\"text-align: right;\">\n",
       "      <th></th>\n",
       "      <th>tweet</th>\n",
       "      <th>target</th>\n",
       "    </tr>\n",
       "  </thead>\n",
       "  <tbody>\n",
       "    <tr>\n",
       "      <th>0</th>\n",
       "      <td>Pak PM survives removal scare</td>\n",
       "      <td>neutral</td>\n",
       "    </tr>\n",
       "    <tr>\n",
       "      <th>1</th>\n",
       "      <td>but court orders further probe into corruptio...</td>\n",
       "      <td>neutral</td>\n",
       "    </tr>\n",
       "    <tr>\n",
       "      <th>2</th>\n",
       "      <td>Supreme Court quashes criminal complaint again...</td>\n",
       "      <td>neutral</td>\n",
       "    </tr>\n",
       "    <tr>\n",
       "      <th>3</th>\n",
       "      <td>Art of Living's fights back over Yamuna floodp...</td>\n",
       "      <td>neutral</td>\n",
       "    </tr>\n",
       "    <tr>\n",
       "      <th>4</th>\n",
       "      <td>livid.</td>\n",
       "      <td>neutral</td>\n",
       "    </tr>\n",
       "  </tbody>\n",
       "</table>\n",
       "</div>"
      ],
      "text/plain": [
       "                                               tweet   target\n",
       "0                      Pak PM survives removal scare  neutral\n",
       "1   but court orders further probe into corruptio...  neutral\n",
       "2  Supreme Court quashes criminal complaint again...  neutral\n",
       "3  Art of Living's fights back over Yamuna floodp...  neutral\n",
       "4                                            livid.   neutral"
      ]
     },
     "execution_count": 4,
     "metadata": {},
     "output_type": "execute_result"
    }
   ],
   "source": [
    "neutral = pd.read_csv('./data/processedNeutral.csv').T.reset_index()\n",
    "neutral = neutral.rename(columns = {'index': 'tweet'})\n",
    "neutral['target'] = 'neutral'\n",
    "neutral.head()"
   ]
  },
  {
   "cell_type": "code",
   "execution_count": 5,
   "id": "7b2ed338",
   "metadata": {},
   "outputs": [
    {
     "data": {
      "text/plain": [
       "(1570, 2)"
      ]
     },
     "execution_count": 5,
     "metadata": {},
     "output_type": "execute_result"
    }
   ],
   "source": [
    "neutral.shape"
   ]
  },
  {
   "cell_type": "code",
   "execution_count": 6,
   "id": "83cfe17e",
   "metadata": {},
   "outputs": [
    {
     "data": {
      "text/html": [
       "<div>\n",
       "<style scoped>\n",
       "    .dataframe tbody tr th:only-of-type {\n",
       "        vertical-align: middle;\n",
       "    }\n",
       "\n",
       "    .dataframe tbody tr th {\n",
       "        vertical-align: top;\n",
       "    }\n",
       "\n",
       "    .dataframe thead th {\n",
       "        text-align: right;\n",
       "    }\n",
       "</style>\n",
       "<table border=\"1\" class=\"dataframe\">\n",
       "  <thead>\n",
       "    <tr style=\"text-align: right;\">\n",
       "      <th></th>\n",
       "      <th>tweet</th>\n",
       "      <th>target</th>\n",
       "    </tr>\n",
       "  </thead>\n",
       "  <tbody>\n",
       "    <tr>\n",
       "      <th>0</th>\n",
       "      <td>An inspiration in all aspects: Fashion</td>\n",
       "      <td>positive</td>\n",
       "    </tr>\n",
       "    <tr>\n",
       "      <th>1</th>\n",
       "      <td>fitness</td>\n",
       "      <td>positive</td>\n",
       "    </tr>\n",
       "    <tr>\n",
       "      <th>2</th>\n",
       "      <td>beauty and personality. :)KISSES TheFashionIcon</td>\n",
       "      <td>positive</td>\n",
       "    </tr>\n",
       "    <tr>\n",
       "      <th>3</th>\n",
       "      <td>Apka Apna Awam Ka Channel Frankline Tv Aam Adm...</td>\n",
       "      <td>positive</td>\n",
       "    </tr>\n",
       "    <tr>\n",
       "      <th>4</th>\n",
       "      <td>Beautiful album from  the greatest unsung guit...</td>\n",
       "      <td>positive</td>\n",
       "    </tr>\n",
       "  </tbody>\n",
       "</table>\n",
       "</div>"
      ],
      "text/plain": [
       "                                               tweet    target\n",
       "0             An inspiration in all aspects: Fashion  positive\n",
       "1                                            fitness  positive\n",
       "2    beauty and personality. :)KISSES TheFashionIcon  positive\n",
       "3  Apka Apna Awam Ka Channel Frankline Tv Aam Adm...  positive\n",
       "4  Beautiful album from  the greatest unsung guit...  positive"
      ]
     },
     "execution_count": 6,
     "metadata": {},
     "output_type": "execute_result"
    }
   ],
   "source": [
    "positive = pd.read_csv('./data/processedPositive.csv').T.reset_index()\n",
    "positive = positive.rename(columns = {'index': 'tweet'})\n",
    "positive['target'] = 'positive'\n",
    "positive.head()"
   ]
  },
  {
   "cell_type": "code",
   "execution_count": 7,
   "id": "becbe069",
   "metadata": {},
   "outputs": [
    {
     "data": {
      "text/plain": [
       "(1186, 2)"
      ]
     },
     "execution_count": 7,
     "metadata": {},
     "output_type": "execute_result"
    }
   ],
   "source": [
    "positive.shape"
   ]
  },
  {
   "cell_type": "code",
   "execution_count": 8,
   "id": "6a128cfa",
   "metadata": {},
   "outputs": [
    {
     "data": {
      "text/html": [
       "<div>\n",
       "<style scoped>\n",
       "    .dataframe tbody tr th:only-of-type {\n",
       "        vertical-align: middle;\n",
       "    }\n",
       "\n",
       "    .dataframe tbody tr th {\n",
       "        vertical-align: top;\n",
       "    }\n",
       "\n",
       "    .dataframe thead th {\n",
       "        text-align: right;\n",
       "    }\n",
       "</style>\n",
       "<table border=\"1\" class=\"dataframe\">\n",
       "  <thead>\n",
       "    <tr style=\"text-align: right;\">\n",
       "      <th></th>\n",
       "      <th>tweet</th>\n",
       "      <th>target</th>\n",
       "    </tr>\n",
       "  </thead>\n",
       "  <tbody>\n",
       "    <tr>\n",
       "      <th>0</th>\n",
       "      <td>How unhappy  some dogs like it though</td>\n",
       "      <td>negative</td>\n",
       "    </tr>\n",
       "    <tr>\n",
       "      <th>1</th>\n",
       "      <td>talking to my over driver about where I'm goin...</td>\n",
       "      <td>negative</td>\n",
       "    </tr>\n",
       "    <tr>\n",
       "      <th>2</th>\n",
       "      <td>Does anybody know if the Rand's likely to fall...</td>\n",
       "      <td>negative</td>\n",
       "    </tr>\n",
       "    <tr>\n",
       "      <th>3</th>\n",
       "      <td>I miss going to gigs in Liverpool unhappy</td>\n",
       "      <td>negative</td>\n",
       "    </tr>\n",
       "    <tr>\n",
       "      <th>4</th>\n",
       "      <td>There isnt a new Riverdale tonight ? unhappy</td>\n",
       "      <td>negative</td>\n",
       "    </tr>\n",
       "  </tbody>\n",
       "</table>\n",
       "</div>"
      ],
      "text/plain": [
       "                                               tweet    target\n",
       "0              How unhappy  some dogs like it though  negative\n",
       "1  talking to my over driver about where I'm goin...  negative\n",
       "2  Does anybody know if the Rand's likely to fall...  negative\n",
       "3         I miss going to gigs in Liverpool unhappy   negative\n",
       "4      There isnt a new Riverdale tonight ? unhappy   negative"
      ]
     },
     "execution_count": 8,
     "metadata": {},
     "output_type": "execute_result"
    }
   ],
   "source": [
    "negative = pd.read_csv('./data/processedNegative.csv').T.reset_index()\n",
    "negative = negative.rename(columns = {'index': 'tweet'})\n",
    "negative['target'] = 'negative'\n",
    "negative.head()"
   ]
  },
  {
   "cell_type": "code",
   "execution_count": 9,
   "id": "72002950",
   "metadata": {},
   "outputs": [
    {
     "data": {
      "text/plain": [
       "(1117, 2)"
      ]
     },
     "execution_count": 9,
     "metadata": {},
     "output_type": "execute_result"
    }
   ],
   "source": [
    "negative.shape"
   ]
  },
  {
   "cell_type": "markdown",
   "id": "08de726d",
   "metadata": {},
   "source": [
    "#### объединим все данные в один набор для простаты работы с ним"
   ]
  },
  {
   "cell_type": "code",
   "execution_count": 10,
   "id": "01ba6357",
   "metadata": {},
   "outputs": [
    {
     "data": {
      "text/html": [
       "<div>\n",
       "<style scoped>\n",
       "    .dataframe tbody tr th:only-of-type {\n",
       "        vertical-align: middle;\n",
       "    }\n",
       "\n",
       "    .dataframe tbody tr th {\n",
       "        vertical-align: top;\n",
       "    }\n",
       "\n",
       "    .dataframe thead th {\n",
       "        text-align: right;\n",
       "    }\n",
       "</style>\n",
       "<table border=\"1\" class=\"dataframe\">\n",
       "  <thead>\n",
       "    <tr style=\"text-align: right;\">\n",
       "      <th></th>\n",
       "      <th>tweet</th>\n",
       "      <th>target</th>\n",
       "    </tr>\n",
       "  </thead>\n",
       "  <tbody>\n",
       "    <tr>\n",
       "      <th>0</th>\n",
       "      <td>Pak PM survives removal scare</td>\n",
       "      <td>neutral</td>\n",
       "    </tr>\n",
       "    <tr>\n",
       "      <th>1</th>\n",
       "      <td>but court orders further probe into corruptio...</td>\n",
       "      <td>neutral</td>\n",
       "    </tr>\n",
       "    <tr>\n",
       "      <th>2</th>\n",
       "      <td>Supreme Court quashes criminal complaint again...</td>\n",
       "      <td>neutral</td>\n",
       "    </tr>\n",
       "    <tr>\n",
       "      <th>3</th>\n",
       "      <td>Art of Living's fights back over Yamuna floodp...</td>\n",
       "      <td>neutral</td>\n",
       "    </tr>\n",
       "    <tr>\n",
       "      <th>4</th>\n",
       "      <td>livid.</td>\n",
       "      <td>neutral</td>\n",
       "    </tr>\n",
       "  </tbody>\n",
       "</table>\n",
       "</div>"
      ],
      "text/plain": [
       "                                               tweet   target\n",
       "0                      Pak PM survives removal scare  neutral\n",
       "1   but court orders further probe into corruptio...  neutral\n",
       "2  Supreme Court quashes criminal complaint again...  neutral\n",
       "3  Art of Living's fights back over Yamuna floodp...  neutral\n",
       "4                                            livid.   neutral"
      ]
     },
     "execution_count": 10,
     "metadata": {},
     "output_type": "execute_result"
    }
   ],
   "source": [
    "data = pd.concat([neutral, negative, positive], axis=0).reset_index().drop('index', axis=1)\n",
    "data.head()"
   ]
  },
  {
   "cell_type": "code",
   "execution_count": 11,
   "id": "32c579a0",
   "metadata": {},
   "outputs": [],
   "source": [
    "data = data.sample(frac = 1).reset_index().drop('index', axis=1)"
   ]
  },
  {
   "cell_type": "code",
   "execution_count": 12,
   "id": "9c2aec96",
   "metadata": {},
   "outputs": [
    {
     "data": {
      "text/plain": [
       "True"
      ]
     },
     "execution_count": 12,
     "metadata": {},
     "output_type": "execute_result"
    }
   ],
   "source": [
    "data.shape[0] == negative.shape[0] + neutral.shape[0] + positive.shape[0] "
   ]
  },
  {
   "cell_type": "markdown",
   "id": "6ea1ebeb",
   "metadata": {},
   "source": [
    "## удаление пуктуации"
   ]
  },
  {
   "cell_type": "code",
   "execution_count": 13,
   "id": "60cd58da",
   "metadata": {},
   "outputs": [],
   "source": [
    "data['my_preproces'] = data['tweet'].apply(lambda x: re.sub(r'[^\\w\\s]','', x))"
   ]
  },
  {
   "cell_type": "markdown",
   "id": "9aaad55f",
   "metadata": {},
   "source": [
    "## токенизация по словам"
   ]
  },
  {
   "cell_type": "code",
   "execution_count": 14,
   "id": "49181278",
   "metadata": {},
   "outputs": [],
   "source": [
    "data['just_token'] = data['tweet'].apply(lambda x: nltk.word_tokenize(x))\n",
    "data['stemming'] = data['tweet'].apply(lambda x: nltk.word_tokenize(x))\n",
    "data['lemmatization'] = data['tweet'].apply(lambda x: nltk.word_tokenize(x))\n",
    "data['stemming+'] = data['tweet'].apply(lambda x: nltk.word_tokenize(x))\n",
    "data['misspelling'] = data['tweet'].apply(lambda x: nltk.word_tokenize(x))\n",
    "data['lemmatization + misspelling'] = data['tweet'].apply(lambda x: nltk.word_tokenize(x))\n",
    "data['my_preproces'] = data['tweet'].apply(lambda x: nltk.word_tokenize(x))\n"
   ]
  },
  {
   "cell_type": "code",
   "execution_count": 15,
   "id": "baed8a03",
   "metadata": {},
   "outputs": [
    {
     "data": {
      "text/html": [
       "<div>\n",
       "<style scoped>\n",
       "    .dataframe tbody tr th:only-of-type {\n",
       "        vertical-align: middle;\n",
       "    }\n",
       "\n",
       "    .dataframe tbody tr th {\n",
       "        vertical-align: top;\n",
       "    }\n",
       "\n",
       "    .dataframe thead th {\n",
       "        text-align: right;\n",
       "    }\n",
       "</style>\n",
       "<table border=\"1\" class=\"dataframe\">\n",
       "  <thead>\n",
       "    <tr style=\"text-align: right;\">\n",
       "      <th></th>\n",
       "      <th>tweet</th>\n",
       "      <th>target</th>\n",
       "      <th>my_preproces</th>\n",
       "      <th>just_token</th>\n",
       "      <th>stemming</th>\n",
       "      <th>lemmatization</th>\n",
       "      <th>stemming+</th>\n",
       "      <th>misspelling</th>\n",
       "      <th>lemmatization + misspelling</th>\n",
       "    </tr>\n",
       "  </thead>\n",
       "  <tbody>\n",
       "    <tr>\n",
       "      <th>0</th>\n",
       "      <td>one direction (band)  whats going on unhappy</td>\n",
       "      <td>negative</td>\n",
       "      <td>[one, direction, (, band, ), whats, going, on,...</td>\n",
       "      <td>[one, direction, (, band, ), whats, going, on,...</td>\n",
       "      <td>[one, direction, (, band, ), whats, going, on,...</td>\n",
       "      <td>[one, direction, (, band, ), whats, going, on,...</td>\n",
       "      <td>[one, direction, (, band, ), whats, going, on,...</td>\n",
       "      <td>[one, direction, (, band, ), whats, going, on,...</td>\n",
       "      <td>[one, direction, (, band, ), whats, going, on,...</td>\n",
       "    </tr>\n",
       "    <tr>\n",
       "      <th>1</th>\n",
       "      <td>Winners of awards at The Telegraph's - Advanta...</td>\n",
       "      <td>neutral</td>\n",
       "      <td>[winners, of, awards, at, the, telegraph, 's, ...</td>\n",
       "      <td>[Winners, of, awards, at, The, Telegraph, 's, ...</td>\n",
       "      <td>[Winners, of, awards, at, The, Telegraph, 's, ...</td>\n",
       "      <td>[Winners, of, awards, at, The, Telegraph, 's, ...</td>\n",
       "      <td>[Winners, of, awards, at, The, Telegraph, 's, ...</td>\n",
       "      <td>[Winners, of, awards, at, The, Telegraph, 's, ...</td>\n",
       "      <td>[Winners, of, awards, at, The, Telegraph, 's, ...</td>\n",
       "    </tr>\n",
       "    <tr>\n",
       "      <th>2</th>\n",
       "      <td>Enforcement Directorate Chief Karnal Singh get...</td>\n",
       "      <td>neutral</td>\n",
       "      <td>[enforcement, directorate, chief, karnal, sing...</td>\n",
       "      <td>[Enforcement, Directorate, Chief, Karnal, Sing...</td>\n",
       "      <td>[Enforcement, Directorate, Chief, Karnal, Sing...</td>\n",
       "      <td>[Enforcement, Directorate, Chief, Karnal, Sing...</td>\n",
       "      <td>[Enforcement, Directorate, Chief, Karnal, Sing...</td>\n",
       "      <td>[Enforcement, Directorate, Chief, Karnal, Sing...</td>\n",
       "      <td>[Enforcement, Directorate, Chief, Karnal, Sing...</td>\n",
       "    </tr>\n",
       "    <tr>\n",
       "      <th>3</th>\n",
       "      <td>to retain TV innings.</td>\n",
       "      <td>neutral</td>\n",
       "      <td>[to, retain, tv, innings, .]</td>\n",
       "      <td>[to, retain, TV, innings, .]</td>\n",
       "      <td>[to, retain, TV, innings, .]</td>\n",
       "      <td>[to, retain, TV, innings, .]</td>\n",
       "      <td>[to, retain, TV, innings, .]</td>\n",
       "      <td>[to, retain, TV, innings, .]</td>\n",
       "      <td>[to, retain, TV, innings, .]</td>\n",
       "    </tr>\n",
       "    <tr>\n",
       "      <th>4</th>\n",
       "      <td>widening trade deficit to $9.84bn.</td>\n",
       "      <td>neutral</td>\n",
       "      <td>[widening, trade, deficit, to, $, 9.84bn, .]</td>\n",
       "      <td>[widening, trade, deficit, to, $, 9.84bn, .]</td>\n",
       "      <td>[widening, trade, deficit, to, $, 9.84bn, .]</td>\n",
       "      <td>[widening, trade, deficit, to, $, 9.84bn, .]</td>\n",
       "      <td>[widening, trade, deficit, to, $, 9.84bn, .]</td>\n",
       "      <td>[widening, trade, deficit, to, $, 9.84bn, .]</td>\n",
       "      <td>[widening, trade, deficit, to, $, 9.84bn, .]</td>\n",
       "    </tr>\n",
       "  </tbody>\n",
       "</table>\n",
       "</div>"
      ],
      "text/plain": [
       "                                               tweet    target  \\\n",
       "0      one direction (band)  whats going on unhappy   negative   \n",
       "1  Winners of awards at The Telegraph's - Advanta...   neutral   \n",
       "2  Enforcement Directorate Chief Karnal Singh get...   neutral   \n",
       "3                             to retain TV innings.    neutral   \n",
       "4                 widening trade deficit to $9.84bn.   neutral   \n",
       "\n",
       "                                        my_preproces  \\\n",
       "0  [one, direction, (, band, ), whats, going, on,...   \n",
       "1  [winners, of, awards, at, the, telegraph, 's, ...   \n",
       "2  [enforcement, directorate, chief, karnal, sing...   \n",
       "3                       [to, retain, tv, innings, .]   \n",
       "4       [widening, trade, deficit, to, $, 9.84bn, .]   \n",
       "\n",
       "                                          just_token  \\\n",
       "0  [one, direction, (, band, ), whats, going, on,...   \n",
       "1  [Winners, of, awards, at, The, Telegraph, 's, ...   \n",
       "2  [Enforcement, Directorate, Chief, Karnal, Sing...   \n",
       "3                       [to, retain, TV, innings, .]   \n",
       "4       [widening, trade, deficit, to, $, 9.84bn, .]   \n",
       "\n",
       "                                            stemming  \\\n",
       "0  [one, direction, (, band, ), whats, going, on,...   \n",
       "1  [Winners, of, awards, at, The, Telegraph, 's, ...   \n",
       "2  [Enforcement, Directorate, Chief, Karnal, Sing...   \n",
       "3                       [to, retain, TV, innings, .]   \n",
       "4       [widening, trade, deficit, to, $, 9.84bn, .]   \n",
       "\n",
       "                                       lemmatization  \\\n",
       "0  [one, direction, (, band, ), whats, going, on,...   \n",
       "1  [Winners, of, awards, at, The, Telegraph, 's, ...   \n",
       "2  [Enforcement, Directorate, Chief, Karnal, Sing...   \n",
       "3                       [to, retain, TV, innings, .]   \n",
       "4       [widening, trade, deficit, to, $, 9.84bn, .]   \n",
       "\n",
       "                                           stemming+  \\\n",
       "0  [one, direction, (, band, ), whats, going, on,...   \n",
       "1  [Winners, of, awards, at, The, Telegraph, 's, ...   \n",
       "2  [Enforcement, Directorate, Chief, Karnal, Sing...   \n",
       "3                       [to, retain, TV, innings, .]   \n",
       "4       [widening, trade, deficit, to, $, 9.84bn, .]   \n",
       "\n",
       "                                         misspelling  \\\n",
       "0  [one, direction, (, band, ), whats, going, on,...   \n",
       "1  [Winners, of, awards, at, The, Telegraph, 's, ...   \n",
       "2  [Enforcement, Directorate, Chief, Karnal, Sing...   \n",
       "3                       [to, retain, TV, innings, .]   \n",
       "4       [widening, trade, deficit, to, $, 9.84bn, .]   \n",
       "\n",
       "                         lemmatization + misspelling  \n",
       "0  [one, direction, (, band, ), whats, going, on,...  \n",
       "1  [Winners, of, awards, at, The, Telegraph, 's, ...  \n",
       "2  [Enforcement, Directorate, Chief, Karnal, Sing...  \n",
       "3                       [to, retain, TV, innings, .]  \n",
       "4       [widening, trade, deficit, to, $, 9.84bn, .]  "
      ]
     },
     "execution_count": 15,
     "metadata": {},
     "output_type": "execute_result"
    }
   ],
   "source": [
    "data['my_preproces'] = data['my_preproces'].apply(lambda x: [i.lower() for i in x])\n",
    "data.head()"
   ]
  },
  {
   "cell_type": "markdown",
   "id": "e827eef7",
   "metadata": {},
   "source": [
    "## Cтемминг текста"
   ]
  },
  {
   "cell_type": "code",
   "execution_count": 16,
   "id": "472208fb",
   "metadata": {},
   "outputs": [],
   "source": [
    "stemmer = PorterStemmer()\n",
    "data['stemming'] = data['stemming'].apply(lambda sen: [stemmer.stem(word) for word in sen])\n",
    "data['misspelling'] = data['misspelling'].apply(lambda sen: [stemmer.stem(word) for word in sen])"
   ]
  },
  {
   "cell_type": "markdown",
   "id": "6041e5ea",
   "metadata": {},
   "source": [
    "## Cтемминг + текста\n",
    "Создание стеммера со снежным углом\n",
    "Он также известен как алгоритм Porter2 stemming, поскольку он имеет тенденцию исправлять несколько недостатков в Porter stemmer. Давайте посмотрим, как его использовать."
   ]
  },
  {
   "cell_type": "code",
   "execution_count": 17,
   "id": "e2e09a64",
   "metadata": {},
   "outputs": [],
   "source": [
    "snow_stemmer = SnowballStemmer(language='english')\n",
    "data['stemming+'] = data['stemming+'].apply(lambda sen: [snow_stemmer.stem(word) for word in sen])"
   ]
  },
  {
   "cell_type": "markdown",
   "id": "7e3f7bd6",
   "metadata": {},
   "source": [
    "## Лемматизация  текста"
   ]
  },
  {
   "cell_type": "code",
   "execution_count": 18,
   "id": "541b1520",
   "metadata": {},
   "outputs": [],
   "source": [
    "def get_wordnet_pos(word):\n",
    "    \"\"\"Map POS tag to first character lemmatize() accepts\"\"\"\n",
    "    tag = word[0].upper()\n",
    "    tag_dict = {\"J\": wordnet.ADJ,\n",
    "                \"N\": wordnet.NOUN,\n",
    "                \"V\": wordnet.VERB,\n",
    "                \"R\": wordnet.ADV}\n",
    "\n",
    "    return tag_dict.get(tag, wordnet.NOUN)"
   ]
  },
  {
   "cell_type": "code",
   "execution_count": 19,
   "id": "558708cd",
   "metadata": {},
   "outputs": [],
   "source": [
    "lemmatizer = WordNetLemmatizer()"
   ]
  },
  {
   "cell_type": "code",
   "execution_count": 20,
   "id": "bd381786",
   "metadata": {},
   "outputs": [],
   "source": [
    "data['lemmatization'] = data['lemmatization'].apply(lambda sen: \n",
    "[lemmatizer.lemmatize(word[0],  get_wordnet_pos(word[1])) for word in nltk.pos_tag(sen)])\n",
    "\n",
    "\n",
    "data['lemmatization + misspelling'] = data['lemmatization + misspelling'].apply(lambda sen: \n",
    "[lemmatizer.lemmatize(word[0],  get_wordnet_pos(word[1])) for word in nltk.pos_tag(sen)])\n",
    "\n",
    "data['my_preproces'] = data['my_preproces'].apply(lambda sen: \n",
    "[lemmatizer.lemmatize(word[0],  get_wordnet_pos(word[1])) for word in nltk.pos_tag(sen)])"
   ]
  },
  {
   "cell_type": "code",
   "execution_count": 21,
   "id": "31cea149",
   "metadata": {},
   "outputs": [
    {
     "data": {
      "text/html": [
       "<div>\n",
       "<style scoped>\n",
       "    .dataframe tbody tr th:only-of-type {\n",
       "        vertical-align: middle;\n",
       "    }\n",
       "\n",
       "    .dataframe tbody tr th {\n",
       "        vertical-align: top;\n",
       "    }\n",
       "\n",
       "    .dataframe thead th {\n",
       "        text-align: right;\n",
       "    }\n",
       "</style>\n",
       "<table border=\"1\" class=\"dataframe\">\n",
       "  <thead>\n",
       "    <tr style=\"text-align: right;\">\n",
       "      <th></th>\n",
       "      <th>tweet</th>\n",
       "      <th>target</th>\n",
       "      <th>my_preproces</th>\n",
       "      <th>just_token</th>\n",
       "      <th>stemming</th>\n",
       "      <th>lemmatization</th>\n",
       "      <th>stemming+</th>\n",
       "      <th>misspelling</th>\n",
       "      <th>lemmatization + misspelling</th>\n",
       "    </tr>\n",
       "  </thead>\n",
       "  <tbody>\n",
       "    <tr>\n",
       "      <th>0</th>\n",
       "      <td>one direction (band)  whats going on unhappy</td>\n",
       "      <td>negative</td>\n",
       "      <td>[one, direction, (, band, ), whats, go, on, un...</td>\n",
       "      <td>[one, direction, (, band, ), whats, going, on,...</td>\n",
       "      <td>[one, direct, (, band, ), what, go, on, unhappi]</td>\n",
       "      <td>[one, direction, (, band, ), whats, go, on, un...</td>\n",
       "      <td>[one, direct, (, band, ), what, go, on, unhappi]</td>\n",
       "      <td>[one, direct, (, band, ), what, go, on, unhappi]</td>\n",
       "      <td>[one, direction, (, band, ), whats, go, on, un...</td>\n",
       "    </tr>\n",
       "    <tr>\n",
       "      <th>1</th>\n",
       "      <td>Winners of awards at The Telegraph's - Advanta...</td>\n",
       "      <td>neutral</td>\n",
       "      <td>[winner, of, award, at, the, telegraph, 's, -,...</td>\n",
       "      <td>[Winners, of, awards, at, The, Telegraph, 's, ...</td>\n",
       "      <td>[winner, of, award, at, the, telegraph, 's, -,...</td>\n",
       "      <td>[Winners, of, award, at, The, Telegraph, 's, -...</td>\n",
       "      <td>[winner, of, award, at, the, telegraph, 's, -,...</td>\n",
       "      <td>[winner, of, award, at, the, telegraph, 's, -,...</td>\n",
       "      <td>[Winners, of, award, at, The, Telegraph, 's, -...</td>\n",
       "    </tr>\n",
       "    <tr>\n",
       "      <th>2</th>\n",
       "      <td>Enforcement Directorate Chief Karnal Singh get...</td>\n",
       "      <td>neutral</td>\n",
       "      <td>[enforcement, directorate, chief, karnal, sing...</td>\n",
       "      <td>[Enforcement, Directorate, Chief, Karnal, Sing...</td>\n",
       "      <td>[enforc, director, chief, karnal, singh, get, ...</td>\n",
       "      <td>[Enforcement, Directorate, Chief, Karnal, Sing...</td>\n",
       "      <td>[enforc, director, chief, karnal, singh, get, ...</td>\n",
       "      <td>[enforc, director, chief, karnal, singh, get, ...</td>\n",
       "      <td>[Enforcement, Directorate, Chief, Karnal, Sing...</td>\n",
       "    </tr>\n",
       "    <tr>\n",
       "      <th>3</th>\n",
       "      <td>to retain TV innings.</td>\n",
       "      <td>neutral</td>\n",
       "      <td>[to, retain, tv, inning, .]</td>\n",
       "      <td>[to, retain, TV, innings, .]</td>\n",
       "      <td>[to, retain, tv, inning, .]</td>\n",
       "      <td>[to, retain, TV, inning, .]</td>\n",
       "      <td>[to, retain, tv, inning, .]</td>\n",
       "      <td>[to, retain, tv, inning, .]</td>\n",
       "      <td>[to, retain, TV, inning, .]</td>\n",
       "    </tr>\n",
       "    <tr>\n",
       "      <th>4</th>\n",
       "      <td>widening trade deficit to $9.84bn.</td>\n",
       "      <td>neutral</td>\n",
       "      <td>[widen, trade, deficit, to, $, 9.84bn, .]</td>\n",
       "      <td>[widening, trade, deficit, to, $, 9.84bn, .]</td>\n",
       "      <td>[widen, trade, deficit, to, $, 9.84bn, .]</td>\n",
       "      <td>[widen, trade, deficit, to, $, 9.84bn, .]</td>\n",
       "      <td>[widen, trade, deficit, to, $, 9.84bn, .]</td>\n",
       "      <td>[widen, trade, deficit, to, $, 9.84bn, .]</td>\n",
       "      <td>[widen, trade, deficit, to, $, 9.84bn, .]</td>\n",
       "    </tr>\n",
       "  </tbody>\n",
       "</table>\n",
       "</div>"
      ],
      "text/plain": [
       "                                               tweet    target  \\\n",
       "0      one direction (band)  whats going on unhappy   negative   \n",
       "1  Winners of awards at The Telegraph's - Advanta...   neutral   \n",
       "2  Enforcement Directorate Chief Karnal Singh get...   neutral   \n",
       "3                             to retain TV innings.    neutral   \n",
       "4                 widening trade deficit to $9.84bn.   neutral   \n",
       "\n",
       "                                        my_preproces  \\\n",
       "0  [one, direction, (, band, ), whats, go, on, un...   \n",
       "1  [winner, of, award, at, the, telegraph, 's, -,...   \n",
       "2  [enforcement, directorate, chief, karnal, sing...   \n",
       "3                        [to, retain, tv, inning, .]   \n",
       "4          [widen, trade, deficit, to, $, 9.84bn, .]   \n",
       "\n",
       "                                          just_token  \\\n",
       "0  [one, direction, (, band, ), whats, going, on,...   \n",
       "1  [Winners, of, awards, at, The, Telegraph, 's, ...   \n",
       "2  [Enforcement, Directorate, Chief, Karnal, Sing...   \n",
       "3                       [to, retain, TV, innings, .]   \n",
       "4       [widening, trade, deficit, to, $, 9.84bn, .]   \n",
       "\n",
       "                                            stemming  \\\n",
       "0   [one, direct, (, band, ), what, go, on, unhappi]   \n",
       "1  [winner, of, award, at, the, telegraph, 's, -,...   \n",
       "2  [enforc, director, chief, karnal, singh, get, ...   \n",
       "3                        [to, retain, tv, inning, .]   \n",
       "4          [widen, trade, deficit, to, $, 9.84bn, .]   \n",
       "\n",
       "                                       lemmatization  \\\n",
       "0  [one, direction, (, band, ), whats, go, on, un...   \n",
       "1  [Winners, of, award, at, The, Telegraph, 's, -...   \n",
       "2  [Enforcement, Directorate, Chief, Karnal, Sing...   \n",
       "3                        [to, retain, TV, inning, .]   \n",
       "4          [widen, trade, deficit, to, $, 9.84bn, .]   \n",
       "\n",
       "                                           stemming+  \\\n",
       "0   [one, direct, (, band, ), what, go, on, unhappi]   \n",
       "1  [winner, of, award, at, the, telegraph, 's, -,...   \n",
       "2  [enforc, director, chief, karnal, singh, get, ...   \n",
       "3                        [to, retain, tv, inning, .]   \n",
       "4          [widen, trade, deficit, to, $, 9.84bn, .]   \n",
       "\n",
       "                                         misspelling  \\\n",
       "0   [one, direct, (, band, ), what, go, on, unhappi]   \n",
       "1  [winner, of, award, at, the, telegraph, 's, -,...   \n",
       "2  [enforc, director, chief, karnal, singh, get, ...   \n",
       "3                        [to, retain, tv, inning, .]   \n",
       "4          [widen, trade, deficit, to, $, 9.84bn, .]   \n",
       "\n",
       "                         lemmatization + misspelling  \n",
       "0  [one, direction, (, band, ), whats, go, on, un...  \n",
       "1  [Winners, of, award, at, The, Telegraph, 's, -...  \n",
       "2  [Enforcement, Directorate, Chief, Karnal, Sing...  \n",
       "3                        [to, retain, TV, inning, .]  \n",
       "4          [widen, trade, deficit, to, $, 9.84bn, .]  "
      ]
     },
     "execution_count": 21,
     "metadata": {},
     "output_type": "execute_result"
    }
   ],
   "source": [
    "data.head()"
   ]
  },
  {
   "cell_type": "markdown",
   "id": "f1e64626",
   "metadata": {},
   "source": [
    "##  стоп слова"
   ]
  },
  {
   "cell_type": "code",
   "execution_count": 22,
   "id": "09858558",
   "metadata": {},
   "outputs": [],
   "source": [
    "def stopWords_fun(x):\n",
    "    if x not in stopWords and len(x) >= 3:\n",
    "        return True\n",
    "    return False"
   ]
  },
  {
   "cell_type": "code",
   "execution_count": 23,
   "id": "7c7eea59",
   "metadata": {},
   "outputs": [],
   "source": [
    "stopWords = set(stopwords.words('english'))"
   ]
  },
  {
   "cell_type": "code",
   "execution_count": 24,
   "id": "cf3a8329",
   "metadata": {},
   "outputs": [
    {
     "data": {
      "text/html": [
       "<div>\n",
       "<style scoped>\n",
       "    .dataframe tbody tr th:only-of-type {\n",
       "        vertical-align: middle;\n",
       "    }\n",
       "\n",
       "    .dataframe tbody tr th {\n",
       "        vertical-align: top;\n",
       "    }\n",
       "\n",
       "    .dataframe thead th {\n",
       "        text-align: right;\n",
       "    }\n",
       "</style>\n",
       "<table border=\"1\" class=\"dataframe\">\n",
       "  <thead>\n",
       "    <tr style=\"text-align: right;\">\n",
       "      <th></th>\n",
       "      <th>tweet</th>\n",
       "      <th>target</th>\n",
       "      <th>my_preproces</th>\n",
       "      <th>just_token</th>\n",
       "      <th>stemming</th>\n",
       "      <th>lemmatization</th>\n",
       "      <th>stemming+</th>\n",
       "      <th>misspelling</th>\n",
       "      <th>lemmatization + misspelling</th>\n",
       "    </tr>\n",
       "  </thead>\n",
       "  <tbody>\n",
       "    <tr>\n",
       "      <th>0</th>\n",
       "      <td>one direction (band)  whats going on unhappy</td>\n",
       "      <td>negative</td>\n",
       "      <td>[one, direction, band, whats, unhappy]</td>\n",
       "      <td>[one, direction, (, band, ), whats, going, on,...</td>\n",
       "      <td>[one, direct, (, band, ), what, go, on, unhappi]</td>\n",
       "      <td>[one, direction, (, band, ), whats, go, on, un...</td>\n",
       "      <td>[one, direct, (, band, ), what, go, on, unhappi]</td>\n",
       "      <td>[one, direct, (, band, ), what, go, on, unhappi]</td>\n",
       "      <td>[one, direction, (, band, ), whats, go, on, un...</td>\n",
       "    </tr>\n",
       "    <tr>\n",
       "      <th>1</th>\n",
       "      <td>Winners of awards at The Telegraph's - Advanta...</td>\n",
       "      <td>neutral</td>\n",
       "      <td>[winner, award, telegraph, advantage, 2017]</td>\n",
       "      <td>[Winners, of, awards, at, The, Telegraph, 's, ...</td>\n",
       "      <td>[winner, of, award, at, the, telegraph, 's, -,...</td>\n",
       "      <td>[Winners, of, award, at, The, Telegraph, 's, -...</td>\n",
       "      <td>[winner, of, award, at, the, telegraph, 's, -,...</td>\n",
       "      <td>[winner, of, award, at, the, telegraph, 's, -,...</td>\n",
       "      <td>[Winners, of, award, at, The, Telegraph, 's, -...</td>\n",
       "    </tr>\n",
       "    <tr>\n",
       "      <th>2</th>\n",
       "      <td>Enforcement Directorate Chief Karnal Singh get...</td>\n",
       "      <td>neutral</td>\n",
       "      <td>[enforcement, directorate, chief, karnal, sing...</td>\n",
       "      <td>[Enforcement, Directorate, Chief, Karnal, Sing...</td>\n",
       "      <td>[enforc, director, chief, karnal, singh, get, ...</td>\n",
       "      <td>[Enforcement, Directorate, Chief, Karnal, Sing...</td>\n",
       "      <td>[enforc, director, chief, karnal, singh, get, ...</td>\n",
       "      <td>[enforc, director, chief, karnal, singh, get, ...</td>\n",
       "      <td>[Enforcement, Directorate, Chief, Karnal, Sing...</td>\n",
       "    </tr>\n",
       "    <tr>\n",
       "      <th>3</th>\n",
       "      <td>to retain TV innings.</td>\n",
       "      <td>neutral</td>\n",
       "      <td>[retain, inning]</td>\n",
       "      <td>[to, retain, TV, innings, .]</td>\n",
       "      <td>[to, retain, tv, inning, .]</td>\n",
       "      <td>[to, retain, TV, inning, .]</td>\n",
       "      <td>[to, retain, tv, inning, .]</td>\n",
       "      <td>[to, retain, tv, inning, .]</td>\n",
       "      <td>[to, retain, TV, inning, .]</td>\n",
       "    </tr>\n",
       "    <tr>\n",
       "      <th>4</th>\n",
       "      <td>widening trade deficit to $9.84bn.</td>\n",
       "      <td>neutral</td>\n",
       "      <td>[widen, trade, deficit, 9.84bn]</td>\n",
       "      <td>[widening, trade, deficit, to, $, 9.84bn, .]</td>\n",
       "      <td>[widen, trade, deficit, to, $, 9.84bn, .]</td>\n",
       "      <td>[widen, trade, deficit, to, $, 9.84bn, .]</td>\n",
       "      <td>[widen, trade, deficit, to, $, 9.84bn, .]</td>\n",
       "      <td>[widen, trade, deficit, to, $, 9.84bn, .]</td>\n",
       "      <td>[widen, trade, deficit, to, $, 9.84bn, .]</td>\n",
       "    </tr>\n",
       "  </tbody>\n",
       "</table>\n",
       "</div>"
      ],
      "text/plain": [
       "                                               tweet    target  \\\n",
       "0      one direction (band)  whats going on unhappy   negative   \n",
       "1  Winners of awards at The Telegraph's - Advanta...   neutral   \n",
       "2  Enforcement Directorate Chief Karnal Singh get...   neutral   \n",
       "3                             to retain TV innings.    neutral   \n",
       "4                 widening trade deficit to $9.84bn.   neutral   \n",
       "\n",
       "                                        my_preproces  \\\n",
       "0             [one, direction, band, whats, unhappy]   \n",
       "1        [winner, award, telegraph, advantage, 2017]   \n",
       "2  [enforcement, directorate, chief, karnal, sing...   \n",
       "3                                   [retain, inning]   \n",
       "4                    [widen, trade, deficit, 9.84bn]   \n",
       "\n",
       "                                          just_token  \\\n",
       "0  [one, direction, (, band, ), whats, going, on,...   \n",
       "1  [Winners, of, awards, at, The, Telegraph, 's, ...   \n",
       "2  [Enforcement, Directorate, Chief, Karnal, Sing...   \n",
       "3                       [to, retain, TV, innings, .]   \n",
       "4       [widening, trade, deficit, to, $, 9.84bn, .]   \n",
       "\n",
       "                                            stemming  \\\n",
       "0   [one, direct, (, band, ), what, go, on, unhappi]   \n",
       "1  [winner, of, award, at, the, telegraph, 's, -,...   \n",
       "2  [enforc, director, chief, karnal, singh, get, ...   \n",
       "3                        [to, retain, tv, inning, .]   \n",
       "4          [widen, trade, deficit, to, $, 9.84bn, .]   \n",
       "\n",
       "                                       lemmatization  \\\n",
       "0  [one, direction, (, band, ), whats, go, on, un...   \n",
       "1  [Winners, of, award, at, The, Telegraph, 's, -...   \n",
       "2  [Enforcement, Directorate, Chief, Karnal, Sing...   \n",
       "3                        [to, retain, TV, inning, .]   \n",
       "4          [widen, trade, deficit, to, $, 9.84bn, .]   \n",
       "\n",
       "                                           stemming+  \\\n",
       "0   [one, direct, (, band, ), what, go, on, unhappi]   \n",
       "1  [winner, of, award, at, the, telegraph, 's, -,...   \n",
       "2  [enforc, director, chief, karnal, singh, get, ...   \n",
       "3                        [to, retain, tv, inning, .]   \n",
       "4          [widen, trade, deficit, to, $, 9.84bn, .]   \n",
       "\n",
       "                                         misspelling  \\\n",
       "0   [one, direct, (, band, ), what, go, on, unhappi]   \n",
       "1  [winner, of, award, at, the, telegraph, 's, -,...   \n",
       "2  [enforc, director, chief, karnal, singh, get, ...   \n",
       "3                        [to, retain, tv, inning, .]   \n",
       "4          [widen, trade, deficit, to, $, 9.84bn, .]   \n",
       "\n",
       "                         lemmatization + misspelling  \n",
       "0  [one, direction, (, band, ), whats, go, on, un...  \n",
       "1  [Winners, of, award, at, The, Telegraph, 's, -...  \n",
       "2  [Enforcement, Directorate, Chief, Karnal, Sing...  \n",
       "3                        [to, retain, TV, inning, .]  \n",
       "4          [widen, trade, deficit, to, $, 9.84bn, .]  "
      ]
     },
     "execution_count": 24,
     "metadata": {},
     "output_type": "execute_result"
    }
   ],
   "source": [
    "data['my_preproces'] = data['my_preproces'].apply(lambda sen: list(filter(stopWords_fun, sen)))\n",
    "data.head()"
   ]
  },
  {
   "cell_type": "code",
   "execution_count": 25,
   "id": "7100612c",
   "metadata": {},
   "outputs": [
    {
     "data": {
      "text/plain": [
       "(3873, 9)"
      ]
     },
     "execution_count": 25,
     "metadata": {},
     "output_type": "execute_result"
    }
   ],
   "source": [
    "data.dropna().shape"
   ]
  },
  {
   "cell_type": "markdown",
   "id": "08d49943",
   "metadata": {},
   "source": [
    "## исправление ошибок"
   ]
  },
  {
   "cell_type": "code",
   "execution_count": 26,
   "id": "833e4085",
   "metadata": {},
   "outputs": [],
   "source": [
    "correct_spellings = words.words()"
   ]
  },
  {
   "cell_type": "code",
   "execution_count": 27,
   "id": "efd3fa32",
   "metadata": {},
   "outputs": [],
   "source": [
    "def edit_distance_fun(entry):\n",
    "    try:\n",
    "        temp = [(edit_distance(entry, w),w) for w in correct_spellings if w[0]==entry[0]]\n",
    "        return sorted(temp, key = lambda val:val[0])[0][1]\n",
    "    except:\n",
    "        return entry"
   ]
  },
  {
   "cell_type": "code",
   "execution_count": 28,
   "id": "6b1f0670",
   "metadata": {},
   "outputs": [],
   "source": [
    "data['misspelling'] =  data['misspelling'].apply(lambda sen: [TextBlob(word).correct() for word in sen])"
   ]
  },
  {
   "cell_type": "code",
   "execution_count": 29,
   "id": "90e0f251",
   "metadata": {},
   "outputs": [],
   "source": [
    "data['lemmatization + misspelling'] = data['lemmatization + misspelling']\\\n",
    ".apply(lambda sen: [TextBlob(word).correct() for word in sen])"
   ]
  },
  {
   "cell_type": "code",
   "execution_count": 31,
   "id": "c9bba694",
   "metadata": {},
   "outputs": [],
   "source": [
    "data['my_preproces'] = data['my_preproces']\\\n",
    ".apply(lambda sen: [TextBlob(word).correct() for word in sen])"
   ]
  },
  {
   "cell_type": "code",
   "execution_count": 32,
   "id": "cdfd0d34",
   "metadata": {},
   "outputs": [
    {
     "data": {
      "text/html": [
       "<div>\n",
       "<style scoped>\n",
       "    .dataframe tbody tr th:only-of-type {\n",
       "        vertical-align: middle;\n",
       "    }\n",
       "\n",
       "    .dataframe tbody tr th {\n",
       "        vertical-align: top;\n",
       "    }\n",
       "\n",
       "    .dataframe thead th {\n",
       "        text-align: right;\n",
       "    }\n",
       "</style>\n",
       "<table border=\"1\" class=\"dataframe\">\n",
       "  <thead>\n",
       "    <tr style=\"text-align: right;\">\n",
       "      <th></th>\n",
       "      <th>tweet</th>\n",
       "      <th>target</th>\n",
       "      <th>my_preproces</th>\n",
       "      <th>just_token</th>\n",
       "      <th>stemming</th>\n",
       "      <th>lemmatization</th>\n",
       "      <th>stemming+</th>\n",
       "      <th>misspelling</th>\n",
       "      <th>lemmatization + misspelling</th>\n",
       "    </tr>\n",
       "  </thead>\n",
       "  <tbody>\n",
       "    <tr>\n",
       "      <th>0</th>\n",
       "      <td>one direction (band)  whats going on unhappy</td>\n",
       "      <td>negative</td>\n",
       "      <td>[(o, n, e), (d, i, r, e, c, t, i, o, n), (b, a...</td>\n",
       "      <td>[one, direction, (, band, ), whats, going, on,...</td>\n",
       "      <td>[one, direct, (, band, ), what, go, on, unhappi]</td>\n",
       "      <td>[one, direction, (, band, ), whats, go, on, un...</td>\n",
       "      <td>[one, direct, (, band, ), what, go, on, unhappi]</td>\n",
       "      <td>[(o, n, e), (d, i, r, e, c, t), ((), (b, a, n,...</td>\n",
       "      <td>[(o, n, e), (d, i, r, e, c, t, i, o, n), ((), ...</td>\n",
       "    </tr>\n",
       "    <tr>\n",
       "      <th>1</th>\n",
       "      <td>Winners of awards at The Telegraph's - Advanta...</td>\n",
       "      <td>neutral</td>\n",
       "      <td>[(w, i, n, n, e, r), (a, w, a, r, d), (t, e, l...</td>\n",
       "      <td>[Winners, of, awards, at, The, Telegraph, 's, ...</td>\n",
       "      <td>[winner, of, award, at, the, telegraph, 's, -,...</td>\n",
       "      <td>[Winners, of, award, at, The, Telegraph, 's, -...</td>\n",
       "      <td>[winner, of, award, at, the, telegraph, 's, -,...</td>\n",
       "      <td>[(w, i, n, n, e, r), (o, f), (a, w, a, r, d), ...</td>\n",
       "      <td>[(D, i, n, n, e, r, s), (o, f), (a, w, a, r, d...</td>\n",
       "    </tr>\n",
       "    <tr>\n",
       "      <th>2</th>\n",
       "      <td>Enforcement Directorate Chief Karnal Singh get...</td>\n",
       "      <td>neutral</td>\n",
       "      <td>[(e, n, f, o, r, c, e, m, e, n, t), (d, i, r, ...</td>\n",
       "      <td>[Enforcement, Directorate, Chief, Karnal, Sing...</td>\n",
       "      <td>[enforc, director, chief, karnal, singh, get, ...</td>\n",
       "      <td>[Enforcement, Directorate, Chief, Karnal, Sing...</td>\n",
       "      <td>[enforc, director, chief, karnal, singh, get, ...</td>\n",
       "      <td>[(e, n, f, o, r, c, e), (d, i, r, e, c, t, o, ...</td>\n",
       "      <td>[(E, n, f, o, r, c, e, m, e, n, t), (D, i, r, ...</td>\n",
       "    </tr>\n",
       "    <tr>\n",
       "      <th>3</th>\n",
       "      <td>to retain TV innings.</td>\n",
       "      <td>neutral</td>\n",
       "      <td>[(r, e, t, a, i, n), (w, i, n, n, i, n, g)]</td>\n",
       "      <td>[to, retain, TV, innings, .]</td>\n",
       "      <td>[to, retain, tv, inning, .]</td>\n",
       "      <td>[to, retain, TV, inning, .]</td>\n",
       "      <td>[to, retain, tv, inning, .]</td>\n",
       "      <td>[(t, o), (r, e, t, a, i, n), (t, o), (w, i, n,...</td>\n",
       "      <td>[(t, o), (r, e, t, a, i, n), (o, f), (w, i, n,...</td>\n",
       "    </tr>\n",
       "    <tr>\n",
       "      <th>4</th>\n",
       "      <td>widening trade deficit to $9.84bn.</td>\n",
       "      <td>neutral</td>\n",
       "      <td>[(w, i, d, e, n), (t, r, a, d, e), (d, e, f, i...</td>\n",
       "      <td>[widening, trade, deficit, to, $, 9.84bn, .]</td>\n",
       "      <td>[widen, trade, deficit, to, $, 9.84bn, .]</td>\n",
       "      <td>[widen, trade, deficit, to, $, 9.84bn, .]</td>\n",
       "      <td>[widen, trade, deficit, to, $, 9.84bn, .]</td>\n",
       "      <td>[(w, i, d, e, n), (t, r, a, d, e), (d, e, f, i...</td>\n",
       "      <td>[(w, i, d, e, n), (t, r, a, d, e), (d, e, f, i...</td>\n",
       "    </tr>\n",
       "  </tbody>\n",
       "</table>\n",
       "</div>"
      ],
      "text/plain": [
       "                                               tweet    target  \\\n",
       "0      one direction (band)  whats going on unhappy   negative   \n",
       "1  Winners of awards at The Telegraph's - Advanta...   neutral   \n",
       "2  Enforcement Directorate Chief Karnal Singh get...   neutral   \n",
       "3                             to retain TV innings.    neutral   \n",
       "4                 widening trade deficit to $9.84bn.   neutral   \n",
       "\n",
       "                                        my_preproces  \\\n",
       "0  [(o, n, e), (d, i, r, e, c, t, i, o, n), (b, a...   \n",
       "1  [(w, i, n, n, e, r), (a, w, a, r, d), (t, e, l...   \n",
       "2  [(e, n, f, o, r, c, e, m, e, n, t), (d, i, r, ...   \n",
       "3        [(r, e, t, a, i, n), (w, i, n, n, i, n, g)]   \n",
       "4  [(w, i, d, e, n), (t, r, a, d, e), (d, e, f, i...   \n",
       "\n",
       "                                          just_token  \\\n",
       "0  [one, direction, (, band, ), whats, going, on,...   \n",
       "1  [Winners, of, awards, at, The, Telegraph, 's, ...   \n",
       "2  [Enforcement, Directorate, Chief, Karnal, Sing...   \n",
       "3                       [to, retain, TV, innings, .]   \n",
       "4       [widening, trade, deficit, to, $, 9.84bn, .]   \n",
       "\n",
       "                                            stemming  \\\n",
       "0   [one, direct, (, band, ), what, go, on, unhappi]   \n",
       "1  [winner, of, award, at, the, telegraph, 's, -,...   \n",
       "2  [enforc, director, chief, karnal, singh, get, ...   \n",
       "3                        [to, retain, tv, inning, .]   \n",
       "4          [widen, trade, deficit, to, $, 9.84bn, .]   \n",
       "\n",
       "                                       lemmatization  \\\n",
       "0  [one, direction, (, band, ), whats, go, on, un...   \n",
       "1  [Winners, of, award, at, The, Telegraph, 's, -...   \n",
       "2  [Enforcement, Directorate, Chief, Karnal, Sing...   \n",
       "3                        [to, retain, TV, inning, .]   \n",
       "4          [widen, trade, deficit, to, $, 9.84bn, .]   \n",
       "\n",
       "                                           stemming+  \\\n",
       "0   [one, direct, (, band, ), what, go, on, unhappi]   \n",
       "1  [winner, of, award, at, the, telegraph, 's, -,...   \n",
       "2  [enforc, director, chief, karnal, singh, get, ...   \n",
       "3                        [to, retain, tv, inning, .]   \n",
       "4          [widen, trade, deficit, to, $, 9.84bn, .]   \n",
       "\n",
       "                                         misspelling  \\\n",
       "0  [(o, n, e), (d, i, r, e, c, t), ((), (b, a, n,...   \n",
       "1  [(w, i, n, n, e, r), (o, f), (a, w, a, r, d), ...   \n",
       "2  [(e, n, f, o, r, c, e), (d, i, r, e, c, t, o, ...   \n",
       "3  [(t, o), (r, e, t, a, i, n), (t, o), (w, i, n,...   \n",
       "4  [(w, i, d, e, n), (t, r, a, d, e), (d, e, f, i...   \n",
       "\n",
       "                         lemmatization + misspelling  \n",
       "0  [(o, n, e), (d, i, r, e, c, t, i, o, n), ((), ...  \n",
       "1  [(D, i, n, n, e, r, s), (o, f), (a, w, a, r, d...  \n",
       "2  [(E, n, f, o, r, c, e, m, e, n, t), (D, i, r, ...  \n",
       "3  [(t, o), (r, e, t, a, i, n), (o, f), (w, i, n,...  \n",
       "4  [(w, i, d, e, n), (t, r, a, d, e), (d, e, f, i...  "
      ]
     },
     "execution_count": 32,
     "metadata": {},
     "output_type": "execute_result"
    }
   ],
   "source": [
    "data.head()"
   ]
  },
  {
   "cell_type": "code",
   "execution_count": 33,
   "id": "d95ff65b",
   "metadata": {},
   "outputs": [],
   "source": [
    "with open('./data/data.pickle', 'wb') as f:\n",
    "    pickle.dump(data, f)"
   ]
  },
  {
   "cell_type": "markdown",
   "id": "598f2d88",
   "metadata": {},
   "source": [
    "## Создаем векторы документа"
   ]
  },
  {
   "cell_type": "code",
   "execution_count": 34,
   "id": "ae7e364e",
   "metadata": {},
   "outputs": [],
   "source": [
    "def save_file(name_file, postfix):\n",
    "    print(name_file, postfix)\n",
    "    df = data[name_file].dropna().copy()\n",
    "    if name_file in ['misspelling', 'lemmatization + misspelling', 'my_preproces']:\n",
    "        df = df.apply(lambda sen: \" \".join([str(word) for word in sen]))\n",
    "    else:\n",
    "        df = df.apply(lambda tokenized_sms:  \" \".join(tokenized_sms))\n",
    "    matrix = vectorizer.fit_transform(df)\n",
    "    with open(f'./data/{name_file}_{postfix}.pickle', 'wb') as f:\n",
    "        pickle.dump(matrix, f)"
   ]
  },
  {
   "cell_type": "markdown",
   "id": "ebb75060",
   "metadata": {},
   "source": [
    "##### word exist "
   ]
  },
  {
   "cell_type": "code",
   "execution_count": 35,
   "id": "2b8b249a",
   "metadata": {},
   "outputs": [
    {
     "name": "stdout",
     "output_type": "stream",
     "text": [
      "my_preproces word_exist\n",
      "just_token word_exist\n",
      "stemming word_exist\n",
      "lemmatization word_exist\n",
      "stemming+ word_exist\n",
      "misspelling word_exist\n",
      "lemmatization + misspelling word_exist\n"
     ]
    }
   ],
   "source": [
    "vectorizer = CountVectorizer()\n",
    "for col in data.columns[2:]:\n",
    "    save_file(col, 'word_exist')"
   ]
  },
  {
   "cell_type": "code",
   "execution_count": null,
   "id": "09f5c2c1",
   "metadata": {},
   "outputs": [],
   "source": [
    "# data['my_preproces']"
   ]
  },
  {
   "cell_type": "markdown",
   "id": "3e22e34f",
   "metadata": {},
   "source": [
    "##### word count "
   ]
  },
  {
   "cell_type": "code",
   "execution_count": 36,
   "id": "81a75432",
   "metadata": {},
   "outputs": [
    {
     "name": "stdout",
     "output_type": "stream",
     "text": [
      "my_preproces word_count\n",
      "just_token word_count\n",
      "stemming word_count\n",
      "lemmatization word_count\n",
      "stemming+ word_count\n",
      "misspelling word_count\n",
      "lemmatization + misspelling word_count\n"
     ]
    }
   ],
   "source": [
    "vectorizer = CountVectorizer()\n",
    "for col in data.columns[2:]:\n",
    "    save_file(col, 'word_count')"
   ]
  },
  {
   "cell_type": "markdown",
   "id": "1b22207b",
   "metadata": {},
   "source": [
    "##### Tfidf"
   ]
  },
  {
   "cell_type": "code",
   "execution_count": 37,
   "id": "eb4fdb42",
   "metadata": {},
   "outputs": [
    {
     "name": "stdout",
     "output_type": "stream",
     "text": [
      "my_preproces tfidf\n",
      "just_token tfidf\n",
      "stemming tfidf\n",
      "lemmatization tfidf\n",
      "stemming+ tfidf\n",
      "misspelling tfidf\n",
      "lemmatization + misspelling tfidf\n"
     ]
    }
   ],
   "source": [
    "vectorizer = TfidfVectorizer()\n",
    "for col in data.columns[2:]:\n",
    "    save_file(col, 'tfidf')"
   ]
  },
  {
   "cell_type": "code",
   "execution_count": null,
   "id": "fc3c2053",
   "metadata": {},
   "outputs": [],
   "source": [
    "# vectorizer = TfidfVectorizer()\n",
    "# df = data['just_token'].apply(lambda sen: \" \".join([str(word) for word in sen]))\n",
    "# matrix = vectorizer.fit_transform(df)\n",
    "# matrix.toarray()\n",
    "# m = matrix.toarray()\n",
    "# for i in range(10):\n",
    "#     print(sum((m[i] != 0)))\n",
    "    \n",
    "# print('\\n====\\n')\n",
    "# for i in m[0]:\n",
    "#     if i != 0:\n",
    "#         print(i)"
   ]
  },
  {
   "cell_type": "code",
   "execution_count": null,
   "id": "81d17693",
   "metadata": {},
   "outputs": [],
   "source": [
    "data['my_preproces'].drop_duplicates().reset_index()"
   ]
  },
  {
   "cell_type": "code",
   "execution_count": null,
   "id": "f67fc705",
   "metadata": {},
   "outputs": [],
   "source": []
  }
 ],
 "metadata": {
  "kernelspec": {
   "display_name": "Python 3",
   "language": "python",
   "name": "python3"
  },
  "language_info": {
   "codemirror_mode": {
    "name": "ipython",
    "version": 3
   },
   "file_extension": ".py",
   "mimetype": "text/x-python",
   "name": "python",
   "nbconvert_exporter": "python",
   "pygments_lexer": "ipython3",
   "version": "3.8.8"
  }
 },
 "nbformat": 4,
 "nbformat_minor": 5
}
