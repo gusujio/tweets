{
 "cells": [
  {
   "cell_type": "code",
   "execution_count": 12,
   "id": "cdfc7cdf",
   "metadata": {},
   "outputs": [],
   "source": [
    "from sklearn.ensemble import RandomForestClassifier\n",
    "from sklearn.model_selection import GridSearchCV\n",
    "from sklearn.linear_model import LogisticRegression\n",
    "from sklearn.model_selection import train_test_split\n",
    "from sklearn.preprocessing import LabelEncoder\n",
    "from sklearn.metrics import accuracy_score\n",
    "import gensim.downloader\n",
    "import pandas as pd\n",
    "import numpy as np\n",
    "import pickle\n",
    "from collections import Counter\n",
    "from tqdm import tqdm\n"
   ]
  },
  {
   "cell_type": "code",
   "execution_count": 13,
   "id": "91b9d5e1",
   "metadata": {},
   "outputs": [],
   "source": [
    "from gensim.models import Word2Vec"
   ]
  },
  {
   "cell_type": "code",
   "execution_count": 14,
   "id": "8ed204c4",
   "metadata": {},
   "outputs": [],
   "source": [
    "class Naive:\n",
    "    def fit(self, data, target):\n",
    "        self.target = Counter(target).most_common(1)\n",
    "    def predict(self, data):\n",
    "        lens = data.shape[0]\n",
    "        return [self.target[0][0]] * lens"
   ]
  },
  {
   "cell_type": "code",
   "execution_count": 39,
   "id": "2dff6c41",
   "metadata": {},
   "outputs": [],
   "source": [
    "def get_data(columns, prefix):\n",
    "    name_file = f\"./data/{columns}_{prefix}.pickle\"\n",
    "    with open(name_file, 'rb') as f:\n",
    "        matrix = pickle.load(f)\n",
    "    mas = matrix.toarray()\n",
    "    if prefix == 'word_exist':\n",
    "        mas = (matrix != 0).astype('int')\n",
    "    return mas\n",
    "\n",
    "with open('./data/data.pickle', 'rb') as f:\n",
    "    df = pickle.load(f)\n",
    "df = df.reset_index()"
   ]
  },
  {
   "cell_type": "code",
   "execution_count": 25,
   "id": "f9f1fc09",
   "metadata": {},
   "outputs": [],
   "source": [
    "def predict_result(model):\n",
    "    itog_tabel = []\n",
    "    for prefix in tqdm(prefix_mas):\n",
    "        for columns in tqdm(data_columns):\n",
    "            matrix = get_data(columns, prefix)\n",
    "            bool_mas = df[columns].isna()\n",
    "            target = labelencoder.fit_transform(df.loc[~bool_mas, 'target'])\n",
    "            X_train, X_test, y_train, y_test = train_test_split(matrix, target, test_size=0.2, random_state=42, stratify = target)\n",
    "            model.fit(X_train, y_train)\n",
    "            accuracy = accuracy_score(y_test, model.predict(X_test))\n",
    "            itog_tabel.append([prefix, columns, accuracy])\n",
    "    return itog_tabel"
   ]
  },
  {
   "cell_type": "code",
   "execution_count": 17,
   "id": "8ea899b5",
   "metadata": {},
   "outputs": [],
   "source": [
    "labelencoder = LabelEncoder()\n",
    "target = labelencoder.fit_transform(df['target'])"
   ]
  },
  {
   "cell_type": "code",
   "execution_count": 18,
   "id": "cb7d48c7",
   "metadata": {},
   "outputs": [],
   "source": [
    "data_columns = ['my_preproces', 'just_token', 'stemming', 'lemmatization', \n",
    "'stemming+', 'misspelling', 'lemmatization + misspelling']\n",
    "prefix_mas = ['word_exist', 'tfidf', 'word_count']"
   ]
  },
  {
   "cell_type": "code",
   "execution_count": 19,
   "id": "4354836f",
   "metadata": {},
   "outputs": [],
   "source": [
    "bool_mas = (df['my_preproces'].isna() | df['my_preproces'].duplicated())\n",
    "target = labelencoder.fit_transform(df.loc[~bool_mas, 'target'])"
   ]
  },
  {
   "cell_type": "markdown",
   "id": "1926ee54",
   "metadata": {},
   "source": [
    "## Итоговая таблица "
   ]
  },
  {
   "cell_type": "code",
   "execution_count": 22,
   "id": "5ba5edce",
   "metadata": {},
   "outputs": [
    {
     "data": {
      "text/plain": [
       "['word_exist', 'my_preproces', 0.88]"
      ]
     },
     "execution_count": 22,
     "metadata": {},
     "output_type": "execute_result"
    }
   ],
   "source": [
    "model = LogisticRegression(n_jobs=-1, random_state=42)\n",
    "columns = 'my_preproces'\n",
    "prefix = 'word_exist'\n",
    "matrix = get_data(columns, prefix)\n",
    "bool_mas = df[columns].isna()\n",
    "target = labelencoder.fit_transform(df.loc[~bool_mas, 'target'])\n",
    "X_train, X_test, y_train, y_test = train_test_split(matrix, target, test_size=0.2, random_state=42, stratify = target)\n",
    "model.fit(X_train, y_train)\n",
    "accuracy = accuracy_score(y_test, model.predict(X_test))\n",
    "[prefix, columns, accuracy]"
   ]
  },
  {
   "cell_type": "code",
   "execution_count": 40,
   "id": "1619362a",
   "metadata": {},
   "outputs": [],
   "source": [
    "logreg = LogisticRegression(n_jobs=-1, random_state=42)\n",
    "logreg_result = predict_result(logreg)"
   ]
  },
  {
   "cell_type": "code",
   "execution_count": 27,
   "id": "488e87b7",
   "metadata": {},
   "outputs": [],
   "source": [
    "reg = pd.DataFrame(logreg_result, columns = ['вес слова', 'тип обработки', 'качество'])\n",
    "reg.to_csv('data/logreg_result.csv')"
   ]
  },
  {
   "cell_type": "code",
   "execution_count": 28,
   "id": "8c98dfee",
   "metadata": {},
   "outputs": [
    {
     "name": "stderr",
     "output_type": "stream",
     "text": [
      "  0%|          | 0/3 [00:00<?, ?it/s]\n",
      "  0%|          | 0/7 [00:00<?, ?it/s]\u001b[A\n",
      " 43%|████▎     | 3/7 [00:00<00:00, 22.14it/s]\u001b[A\n",
      "100%|██████████| 7/7 [00:00<00:00, 24.07it/s]\u001b[A\n",
      " 33%|███▎      | 1/3 [00:00<00:00,  3.41it/s]\n",
      "  0%|          | 0/7 [00:00<?, ?it/s]\u001b[A\n",
      " 14%|█▍        | 1/7 [00:00<00:00,  8.94it/s]\u001b[A\n",
      " 29%|██▊       | 2/7 [00:00<00:00,  5.80it/s]\u001b[A\n",
      " 43%|████▎     | 3/7 [00:00<00:00,  5.51it/s]\u001b[A\n",
      " 57%|█████▋    | 4/7 [00:00<00:00,  5.40it/s]\u001b[A\n",
      " 71%|███████▏  | 5/7 [00:00<00:00,  5.85it/s]\u001b[A\n",
      " 86%|████████▌ | 6/7 [00:00<00:00,  6.64it/s]\u001b[A\n",
      "100%|██████████| 7/7 [00:01<00:00,  6.36it/s]\u001b[A\n",
      " 67%|██████▋   | 2/3 [00:01<00:00,  1.30it/s]\n",
      "  0%|          | 0/7 [00:00<?, ?it/s]\u001b[A\n",
      " 14%|█▍        | 1/7 [00:00<00:00,  8.64it/s]\u001b[A\n",
      " 29%|██▊       | 2/7 [00:00<00:00,  5.97it/s]\u001b[A\n",
      " 43%|████▎     | 3/7 [00:00<00:00,  6.31it/s]\u001b[A\n",
      " 57%|█████▋    | 4/7 [00:00<00:00,  5.76it/s]\u001b[A\n",
      " 71%|███████▏  | 5/7 [00:00<00:00,  6.22it/s]\u001b[A\n",
      "100%|██████████| 7/7 [00:00<00:00,  7.05it/s]\u001b[A\n",
      "100%|██████████| 3/3 [00:02<00:00,  1.25it/s]\n"
     ]
    }
   ],
   "source": [
    "naive = Naive()\n",
    "naive_result = predict_result(naive)"
   ]
  },
  {
   "cell_type": "code",
   "execution_count": 29,
   "id": "3a181c6f",
   "metadata": {},
   "outputs": [],
   "source": [
    "naive = pd.DataFrame(naive_result, columns = ['вес слова', 'тип обработки', 'качество'])\n",
    "naive.to_csv('data/naive_result.csv')"
   ]
  },
  {
   "cell_type": "code",
   "execution_count": 30,
   "id": "13c0a16a",
   "metadata": {},
   "outputs": [],
   "source": [
    "# naive"
   ]
  },
  {
   "cell_type": "markdown",
   "id": "b0f6954e",
   "metadata": {},
   "source": [
    "## GridSearch"
   ]
  },
  {
   "cell_type": "code",
   "execution_count": 32,
   "id": "3a5421c1",
   "metadata": {},
   "outputs": [
    {
     "name": "stderr",
     "output_type": "stream",
     "text": [
      "/Users/ila/opt/anaconda3/lib/python3.8/site-packages/sklearn/model_selection/_validation.py:548: FitFailedWarning: Estimator fit failed. The score on this train-test partition for these parameters will be set to nan. Details: \n",
      "Traceback (most recent call last):\n",
      "  File \"/Users/ila/opt/anaconda3/lib/python3.8/site-packages/sklearn/model_selection/_validation.py\", line 531, in _fit_and_score\n",
      "    estimator.fit(X_train, y_train, **fit_params)\n",
      "  File \"/Users/ila/opt/anaconda3/lib/python3.8/site-packages/sklearn/linear_model/_logistic.py\", line 1304, in fit\n",
      "    solver = _check_solver(self.solver, self.penalty, self.dual)\n",
      "  File \"/Users/ila/opt/anaconda3/lib/python3.8/site-packages/sklearn/linear_model/_logistic.py\", line 442, in _check_solver\n",
      "    raise ValueError(\"Solver %s supports only 'l2' or 'none' penalties, \"\n",
      "ValueError: Solver lbfgs supports only 'l2' or 'none' penalties, got l1 penalty.\n",
      "\n",
      "  warnings.warn(\"Estimator fit failed. The score on this train-test\"\n"
     ]
    },
    {
     "name": "stdout",
     "output_type": "stream",
     "text": [
      "{'penalty': 'l2'}\n",
      "['word_exist', 'my_preproces', 0.88]\n"
     ]
    }
   ],
   "source": [
    "columns = 'my_preproces'\n",
    "prefix = 'word_exist'\n",
    "\n",
    "parameters = {'penalty':('l1', 'l2', 'none')}\n",
    "model = LogisticRegression(n_jobs=-1, random_state=42)\n",
    "grid = GridSearchCV(model, parameters)\n",
    "\n",
    "\n",
    "matrix = get_data(columns, prefix)\n",
    "X_train, X_test, y_train, y_test = train_test_split(matrix, target, test_size=0.2, random_state=42, stratify = target)\n",
    "grid.fit(X_train, y_train)\n",
    "\n",
    "# print(grid.best_score_)\n",
    "print(grid.best_params_)\n",
    "\n",
    "accuracy = accuracy_score(y_test, grid.predict(X_test))\n",
    "tabel = [prefix, columns, accuracy]\n",
    "\n",
    "print(tabel)"
   ]
  },
  {
   "cell_type": "markdown",
   "id": "86842c29",
   "metadata": {},
   "source": [
    "## word2vec"
   ]
  },
  {
   "cell_type": "code",
   "execution_count": 33,
   "id": "157467b1",
   "metadata": {},
   "outputs": [],
   "source": [
    "glove_vectors = gensim.downloader.load('glove-twitter-25')"
   ]
  },
  {
   "cell_type": "code",
   "execution_count": 34,
   "id": "d8465c8b",
   "metadata": {},
   "outputs": [],
   "source": [
    "def text_to_vec(sen):\n",
    "    try:\n",
    "        vec = [glove_vectors.wv[str(word)] for word in sen if str(word) in glove_vectors.wv]\n",
    "        conc_vec = np.concatenate(vec)\n",
    "        conc_vec_zer = np.append(conc_vec, np.zeros(500 - len(conc_vec)))\n",
    "        conc_vec_zer = [float(i) for i in conc_vec_zer]\n",
    "        return list(conc_vec_zer)\n",
    "    except:\n",
    "        return None"
   ]
  },
  {
   "cell_type": "code",
   "execution_count": 35,
   "id": "5eab7677",
   "metadata": {
    "scrolled": true
   },
   "outputs": [
    {
     "name": "stderr",
     "output_type": "stream",
     "text": [
      "<ipython-input-34-aa95ed66e07c>:3: DeprecationWarning: Call to deprecated `wv` (Attribute will be removed in 4.0.0, use self instead).\n",
      "  vec = [glove_vectors.wv[str(word)] for word in sen if str(word) in glove_vectors.wv]\n"
     ]
    }
   ],
   "source": [
    "vec = df['my_preproces'].apply(lambda sen: text_to_vec(sen))\n",
    "target_min = target[~vec.isna()]\n",
    "vec = vec[~vec.isna()]\n",
    "vec = np.array(list(vec))"
   ]
  },
  {
   "cell_type": "code",
   "execution_count": 36,
   "id": "48ac7325",
   "metadata": {},
   "outputs": [
    {
     "data": {
      "text/plain": [
       "0.8636959370904325"
      ]
     },
     "execution_count": 36,
     "metadata": {},
     "output_type": "execute_result"
    }
   ],
   "source": [
    "model = RandomForestClassifier(n_jobs=-1, random_state=42)\n",
    "X_train, X_test, y_train, y_test = train_test_split(vec, target_min, test_size=0.2, random_state=42, stratify = target_min)\n",
    "model.fit(X_train, y_train)\n",
    "accuracy = accuracy_score(y_test, model.predict(X_test))\n",
    "accuracy"
   ]
  },
  {
   "cell_type": "code",
   "execution_count": null,
   "id": "9b83c06b",
   "metadata": {},
   "outputs": [],
   "source": []
  }
 ],
 "metadata": {
  "kernelspec": {
   "display_name": "Python 3",
   "language": "python",
   "name": "python3"
  },
  "language_info": {
   "codemirror_mode": {
    "name": "ipython",
    "version": 3
   },
   "file_extension": ".py",
   "mimetype": "text/x-python",
   "name": "python",
   "nbconvert_exporter": "python",
   "pygments_lexer": "ipython3",
   "version": "3.8.8"
  }
 },
 "nbformat": 4,
 "nbformat_minor": 5
}
