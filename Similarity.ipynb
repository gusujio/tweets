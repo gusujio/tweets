{
 "cells": [
  {
   "cell_type": "code",
   "execution_count": 1,
   "id": "731441c7",
   "metadata": {},
   "outputs": [],
   "source": [
    "import pandas as pd\n",
    "import numpy as np\n",
    "import pickle\n",
    "from scipy.sparse import csr_matrix"
   ]
  },
  {
   "cell_type": "code",
   "execution_count": 2,
   "id": "617d50d9",
   "metadata": {},
   "outputs": [],
   "source": [
    "with open('./data/data.pickle', 'rb') as f:\n",
    "    df = pickle.load(f)\n",
    "df = df.reset_index()"
   ]
  },
  {
   "cell_type": "code",
   "execution_count": 16,
   "id": "9db521a6",
   "metadata": {},
   "outputs": [],
   "source": [
    "# Задаем функцию расчета косинуса между векторами-строками покупателей\n",
    "def cos_sim(array):\n",
    "    # преобразуем \n",
    "    csr_array = csr_matrix(array)\n",
    "    numerator = np.dot(csr_array,csr_array.T).toarray()\n",
    "    denomenator = np.linalg.norm(array, axis = 1, keepdims = True) * np.linalg.norm(array.T, axis = 0, keepdims = True)\n",
    "    return numerator / denomenator \n",
    "\n",
    "def get_data(columns, prefix):\n",
    "    name_file = f\"./data/{columns}_{prefix}.pickle\"\n",
    "    with open(name_file, 'rb') as f:\n",
    "        matrix = pickle.load(f)\n",
    "    mas = matrix.toarray()\n",
    "    if prefix == 'word_exist':\n",
    "        mas = (matrix != 0).astype('int').toarray()\n",
    "    return mas"
   ]
  },
  {
   "cell_type": "code",
   "execution_count": 17,
   "id": "9c4a0975",
   "metadata": {},
   "outputs": [
    {
     "name": "stdout",
     "output_type": "stream",
     "text": [
      "my_preproces - word_count\n"
     ]
    },
    {
     "name": "stderr",
     "output_type": "stream",
     "text": [
      "<ipython-input-16-346771b56f70>:7: RuntimeWarning: invalid value encountered in true_divide\n",
      "  return numerator / denomenator\n"
     ]
    },
    {
     "name": "stdout",
     "output_type": "stream",
     "text": [
      "3                                  to retain TV innings. \n",
      "1578    New experiences and exciting times ahead in se...\n",
      "2576    Russell my phone is just 10% is there a possib...\n",
      "2577                 instant message still bored unhappy \n",
      "2578                      Give a trial run for to  months\n",
      "2579                                   Good evening happy\n",
      "2580                                   US gives a scare.1\n",
      "2587             it froze a few times. Then went to 16.10\n",
      "3249                  Sachin Tendulkar on his 2nd innings\n",
      "3855    Select from 14 award-winning Laura Taylor roma...\n",
      "Name: tweet, dtype: object\n",
      "================================\n",
      "\n",
      "just_token - word_exist\n",
      "3                                  to retain TV innings. \n",
      "242                                           to present \n",
      "538                                          We'd love to\n",
      "980     meeting with Governor ends. He stakes claim to...\n",
      "1097                                      road to economy\n",
      "2048                    opens entertainment TV market to \n",
      "2301                                         to  injured \n",
      "3080                                      killers to hang\n",
      "3084                                          to explain.\n",
      "3174                             Generation to generation\n",
      "Name: tweet, dtype: object\n",
      "================================\n",
      "\n",
      "stemming - tfidf\n",
      "3                                  to retain TV innings. \n",
      "507                      By-polls: retains Kanthi Dakshin\n",
      "511     In new TV channel's bedroom journalism on trial. \n",
      "980     meeting with Governor ends. He stakes claim to...\n",
      "1519                               retains assembly seat \n",
      "1578    New experiences and exciting times ahead in se...\n",
      "1636                              wants to say HI to you.\n",
      "2048                    opens entertainment TV market to \n",
      "3249                  Sachin Tendulkar on his 2nd innings\n",
      "3554    Apka Apna Awam Ka Channel Frankline Tv Aam Adm...\n",
      "Name: tweet, dtype: object\n",
      "================================\n",
      "\n"
     ]
    }
   ],
   "source": [
    "data_columns = ['my_preproces', 'just_token', 'stemming', 'lemmatization', \n",
    "'stemming+', 'misspelling', 'lemmatization + misspelling']\n",
    "prefix_mas = ['word_exist', 'word_count', 'tfidf']\n",
    "\n",
    "def top_similarity(id_tweet,  columns = 'just_token', prefix = 'word_exist'):\n",
    "    print(f\"{columns} - {prefix}\")\n",
    "    m = get_data(columns, prefix)\n",
    "    cos_sim_matrix = cos_sim(m)\n",
    "    cos_sim_matrix = pd.DataFrame(cos_sim_matrix)\n",
    "    most_similar = cos_sim_matrix.loc[id_tweet].sort_values(ascending=False).head(10)\n",
    "    most_similar = most_similar.reset_index()\n",
    "    print(df.loc[df['index'].isin(most_similar['index']), 'tweet'].drop_duplicates())\n",
    "    print('================================\\n')\n",
    "            \n",
    "\n",
    "id_tweet = 3\n",
    "top_similarity(id_tweet, 'my_preproces', 'word_count')\n",
    "top_similarity(id_tweet, 'just_token', 'word_exist')\n",
    "top_similarity(id_tweet, 'stemming', 'tfidf')"
   ]
  },
  {
   "cell_type": "code",
   "execution_count": null,
   "id": "43d15f45",
   "metadata": {},
   "outputs": [],
   "source": []
  }
 ],
 "metadata": {
  "kernelspec": {
   "display_name": "Python 3",
   "language": "python",
   "name": "python3"
  },
  "language_info": {
   "codemirror_mode": {
    "name": "ipython",
    "version": 3
   },
   "file_extension": ".py",
   "mimetype": "text/x-python",
   "name": "python",
   "nbconvert_exporter": "python",
   "pygments_lexer": "ipython3",
   "version": "3.8.8"
  }
 },
 "nbformat": 4,
 "nbformat_minor": 5
}
